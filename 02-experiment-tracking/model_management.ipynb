{
 "cells": [
  {
   "cell_type": "code",
   "execution_count": 2,
   "id": "41062d8a",
   "metadata": {},
   "outputs": [],
   "source": [
    "import pandas as pd\n",
    "import pickle\n",
    "import seaborn as sns\n",
    "import matplotlib.pyplot as plt\n",
    "from sklearn.feature_extraction import DictVectorizer\n",
    "from sklearn.linear_model import LinearRegression\n",
    "from sklearn.linear_model import Lasso\n",
    "from sklearn.linear_model import Ridge\n",
    "from sklearn.metrics import mean_squared_error"
   ]
  },
  {
   "cell_type": "code",
   "execution_count": 13,
   "id": "8e013caf",
   "metadata": {},
   "outputs": [],
   "source": [
    "df = pd.read_parquet('./data/green_tripdata_2022-01.parquet')\n",
    "\n",
    "df['duration'] = df.lpep_dropoff_datetime - df.lpep_pickup_datetime\n",
    "df.duration = df.duration.apply(lambda td: td.total_seconds() / 60)\n",
    "\n",
    "df = df[(df.duration >= 1) & (df.duration <= 60)]\n",
    "\n",
    "categorical = ['PULocationID', 'DOLocationID']\n",
    "numerical = ['trip_distance']\n",
    "\n",
    "df[categorical] = df[categorical].astype(str)"
   ]
  },
  {
   "cell_type": "code",
   "execution_count": 14,
   "id": "116ff0cc",
   "metadata": {},
   "outputs": [
    {
     "data": {
      "text/plain": [
       "7.652716560267797"
      ]
     },
     "execution_count": 14,
     "metadata": {},
     "output_type": "execute_result"
    }
   ],
   "source": [
    "train_dicts = df[categorical + numerical].to_dict(orient='records')\n",
    "\n",
    "dv = DictVectorizer()\n",
    "X_train = dv.fit_transform(train_dicts)\n",
    "\n",
    "target = 'duration'\n",
    "y_train = df[target].values\n",
    "\n",
    "lr = LinearRegression()\n",
    "lr.fit(X_train, y_train)\n",
    "\n",
    "y_pred = lr.predict(X_train)\n",
    "\n",
    "mean_squared_error(y_train, y_pred, squared=False)"
   ]
  },
  {
   "cell_type": "markdown",
   "id": "9e4eccc7",
   "metadata": {},
   "source": [
    " ### mlflow ui --backend-store-uri sqlite:///mlflow.db"
   ]
  },
  {
   "cell_type": "code",
   "execution_count": 15,
   "id": "47b0eb9b",
   "metadata": {},
   "outputs": [
    {
     "data": {
      "text/plain": [
       "'file:///workspaces/mlops-zoomcamp-2025/mlruns'"
      ]
     },
     "execution_count": 15,
     "metadata": {},
     "output_type": "execute_result"
    }
   ],
   "source": [
    "import mlflow\n",
    "\n",
    "mlflow.get_registry_uri()"
   ]
  },
  {
   "cell_type": "code",
   "execution_count": 16,
   "id": "195c5169",
   "metadata": {},
   "outputs": [
    {
     "data": {
      "text/plain": [
       "<Experiment: artifact_location='/workspaces/mlops-zoomcamp-2025/mlruns/1', creation_time=1745700092379, experiment_id='1', last_update_time=1745700092379, lifecycle_stage='active', name='nyc-taxi-experiment', tags={}>"
      ]
     },
     "execution_count": 16,
     "metadata": {},
     "output_type": "execute_result"
    }
   ],
   "source": [
    "mlflow.set_tracking_uri('sqlite:///mlflow.db')  # Set the tracking URI to a valid SQLite database\n",
    "mlflow.set_experiment('nyc-taxi-experiment')   # Set the experiment name"
   ]
  },
  {
   "cell_type": "markdown",
   "id": "ba81c43a",
   "metadata": {},
   "source": [
    "## Method 1: Create Pickle file and save it (Not Ideal to load and make inference)"
   ]
  },
  {
   "cell_type": "code",
   "execution_count": 18,
   "id": "88dd9642",
   "metadata": {},
   "outputs": [],
   "source": [
    "with open('model.bin', 'wb') as f_out:\n",
    "    pickle.dump((lr,dv), f_out)"
   ]
  },
  {
   "cell_type": "code",
   "execution_count": null,
   "id": "cc2f5515",
   "metadata": {},
   "outputs": [],
   "source": [
    "with mlflow.start_run():\n",
    "    mlflow.log_artifact('model.bin',artifact_path='nyc-trip-model')\n",
    "    "
   ]
  },
  {
   "cell_type": "markdown",
   "id": "9fefcdf0",
   "metadata": {},
   "source": [
    "# Method 2 -Recommended"
   ]
  },
  {
   "cell_type": "code",
   "execution_count": 20,
   "id": "ec5b16d0",
   "metadata": {},
   "outputs": [
    {
     "name": "stderr",
     "output_type": "stream",
     "text": [
      "2025/04/27 22:10:17 WARNING mlflow.utils.environment: Encountered an unexpected error while inferring pip requirements (model URI: /tmp/tmp82zl6z6p/model/model.pkl, flavor: sklearn). Fall back to return ['scikit-learn==1.0.2', 'cloudpickle==2.0.0']. Set logging level to DEBUG to see the full traceback. \n",
      "\u001b[31m2025/04/27 22:10:17 WARNING mlflow.models.model: Model logged without a signature and input example. Please set `input_example` parameter when logging the model to auto infer the model signature.\u001b[0m\n"
     ]
    }
   ],
   "source": [
    "with mlflow.start_run():\n",
    "    mlflow.sklearn.log_model(lr, artifact_path='nyc-trip-model',mod)"
   ]
  },
  {
   "cell_type": "markdown",
   "id": "853f4d9a",
   "metadata": {},
   "source": [
    "# Load Logged model"
   ]
  },
  {
   "cell_type": "code",
   "execution_count": 23,
   "id": "274fa31e",
   "metadata": {},
   "outputs": [
    {
     "data": {
      "text/plain": [
       "array([ 8.85651993,  8.10497089, 18.64034874, ..., 18.12956425,\n",
       "       10.11127282, 14.57479921])"
      ]
     },
     "execution_count": 23,
     "metadata": {},
     "output_type": "execute_result"
    }
   ],
   "source": [
    "import mlflow\n",
    "logged_model = 'runs:/1e1c6614fe1045d9aa2e740a54a07867/nyc-trip-model'\n",
    "\n",
    "# Load model as a PyFuncModel.\n",
    "loaded_model = mlflow.pyfunc.load_model(logged_model)\n",
    "\n",
    "# Predict on a Pandas DataFrame.\n",
    "loaded_model.predict(X_train)"
   ]
  }
 ],
 "metadata": {
  "kernelspec": {
   "display_name": "Python 3 (ipykernel)",
   "language": "python",
   "name": "python3"
  },
  "language_info": {
   "codemirror_mode": {
    "name": "ipython",
    "version": 3
   },
   "file_extension": ".py",
   "mimetype": "text/x-python",
   "name": "python",
   "nbconvert_exporter": "python",
   "pygments_lexer": "ipython3",
   "version": "3.9.12"
  }
 },
 "nbformat": 4,
 "nbformat_minor": 5
}
