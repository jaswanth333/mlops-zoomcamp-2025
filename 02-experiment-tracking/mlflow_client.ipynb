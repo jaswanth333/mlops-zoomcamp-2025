{
 "cells": [
  {
   "cell_type": "code",
   "execution_count": 60,
   "id": "dc9cbf1f",
   "metadata": {},
   "outputs": [],
   "source": [
    "from mlflow.client import MlflowClient\n",
    "import os"
   ]
  },
  {
   "cell_type": "code",
   "execution_count": 59,
   "id": "5145044b",
   "metadata": {},
   "outputs": [],
   "source": [
    "TRACKING_URI = \"sqlite:///mlflow.db\"\n",
    "EXPERIMENT_NAME='nyc-taxi-experiment'"
   ]
  },
  {
   "cell_type": "code",
   "execution_count": 62,
   "id": "9f4f148d",
   "metadata": {},
   "outputs": [],
   "source": [
    "os.environ['MLFLOW_TRACKING_URI']=TRACKING_URI"
   ]
  },
  {
   "cell_type": "code",
   "execution_count": 63,
   "id": "3013b087",
   "metadata": {},
   "outputs": [],
   "source": [
    "client = MlflowClient(tracking_uri=TRACKING_URI)"
   ]
  },
  {
   "cell_type": "code",
   "execution_count": 64,
   "id": "db591351",
   "metadata": {},
   "outputs": [
    {
     "name": "stdout",
     "output_type": "stream",
     "text": [
      "[<Experiment: artifact_location='/workspaces/mlops-zoomcamp-2025/mlruns/1', creation_time=1745700092379, experiment_id='1', last_update_time=1745700092379, lifecycle_stage='active', name='nyc-taxi-experiment', tags={}>]\n"
     ]
    }
   ],
   "source": [
    "experiments = client.search_experiments(filter_string=f\"name='{EXPERIMENT_NAME}'\")\n",
    "print(experiments)"
   ]
  },
  {
   "cell_type": "code",
   "execution_count": 67,
   "id": "851e3b75",
   "metadata": {},
   "outputs": [
    {
     "name": "stdout",
     "output_type": "stream",
     "text": [
      "Experiment already exists: Experiment(name=created-from-client) already exists. Error: (raised as a result of Query-invoked autoflush; consider using a session.no_autoflush block if this flush is occurring prematurely)\n",
      "(sqlite3.IntegrityError) UNIQUE constraint failed: experiments.name\n",
      "[SQL: INSERT INTO experiments (name, artifact_location, lifecycle_stage, creation_time, last_update_time) VALUES (?, ?, ?, ?, ?)]\n",
      "[parameters: ('created-from-client', None, 'active', 1745795209903, 1745795209903)]\n",
      "(Background on this error at: https://sqlalche.me/e/14/gkpj)\n"
     ]
    }
   ],
   "source": [
    "try:\n",
    "    client.create_experiment(name=\"created-from-client\")\n",
    "except Exception as e:\n",
    "    print(f\"Experiment already exists: {e}\")"
   ]
  },
  {
   "cell_type": "code",
   "execution_count": 56,
   "id": "8b9611bd",
   "metadata": {},
   "outputs": [
    {
     "name": "stdout",
     "output_type": "stream",
     "text": [
      "Run ID: 7999df9ae5694409907baddb7f719de1\n",
      "RMSE: 5.883470547268358\n",
      "--------------------\n",
      "Run ID: 4b6124427c774aecb071164de764d6b3\n",
      "RMSE: 5.960309272024859\n",
      "--------------------\n",
      "Run ID: 58e9cc0172cb49c7ab82a306afc6daac\n",
      "RMSE: 6.316187412106233\n",
      "--------------------\n"
     ]
    }
   ],
   "source": [
    "runs= client.search_runs(\n",
    "    experiment_ids=experiments[0].experiment_id,\n",
    "    filter_string=\"metrics.rmse < 6.5\",\n",
    "    run_view_type=1,\n",
    "    max_results=10,\n",
    "    order_by=[\"metrics.rmse ASC\"]\n",
    ")\n",
    "\n",
    "for run in runs:\n",
    "    print(f\"Run ID: {run.info.run_id}\")\n",
    "    print(f\"RMSE: {run.data.metrics['rmse']}\")\n",
    "    print(\"-\" * 20)"
   ]
  },
  {
   "cell_type": "markdown",
   "id": "3b55d29f",
   "metadata": {},
   "source": [
    "# Register Model using Client"
   ]
  },
  {
   "cell_type": "code",
   "execution_count": 37,
   "id": "b87e5f9b",
   "metadata": {},
   "outputs": [
    {
     "name": "stdout",
     "output_type": "stream",
     "text": [
      "Model version: 2\n"
     ]
    }
   ],
   "source": [
    "model_name = \"nyc-model\"\n",
    "model_uri = f\"runs:/7999df9ae5694409907baddb7f719de1/model\"\n",
    "\n",
    "\n",
    "model_version = client.create_model_version(\n",
    "    name=model_name,\n",
    "    source=model_uri,\n",
    "    run_id=run.info.run_id\n",
    ")\n",
    "\n",
    "\n",
    "print(f\"Model version: {model_version.version}\")"
   ]
  },
  {
   "cell_type": "code",
   "execution_count": 66,
   "id": "dd7da755",
   "metadata": {},
   "outputs": [
    {
     "name": "stderr",
     "output_type": "stream",
     "text": [
      "Registered model 'nyc-model' already exists. Creating a new version of this model...\n",
      "Created version '3' of model 'nyc-model'.\n"
     ]
    },
    {
     "data": {
      "text/plain": [
       "<ModelVersion: aliases=[], creation_timestamp=1745795067738, current_stage='None', description=None, last_updated_timestamp=1745795067738, name='nyc-model', run_id='69d054aa1bf84a66a7dec8857042e52e', run_link=None, source='/workspaces/mlops-zoomcamp-2025/mlruns/1/69d054aa1bf84a66a7dec8857042e52e/artifacts/model', status='READY', status_message=None, tags={}, user_id=None, version=3>"
      ]
     },
     "execution_count": 66,
     "metadata": {},
     "output_type": "execute_result"
    }
   ],
   "source": [
    "import mlflow\n",
    "\n",
    "mlflow.register_model(\n",
    "    model_uri=model_uri,\n",
    "    name=\"nyc-model\",\n",
    ")"
   ]
  }
 ],
 "metadata": {
  "kernelspec": {
   "display_name": "Python 3 (ipykernel)",
   "language": "python",
   "name": "python3"
  },
  "language_info": {
   "codemirror_mode": {
    "name": "ipython",
    "version": 3
   },
   "file_extension": ".py",
   "mimetype": "text/x-python",
   "name": "python",
   "nbconvert_exporter": "python",
   "pygments_lexer": "ipython3",
   "version": "3.9.12"
  }
 },
 "nbformat": 4,
 "nbformat_minor": 5
}
